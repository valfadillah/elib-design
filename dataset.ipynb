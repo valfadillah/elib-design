{
 "cells": [
  {
   "cell_type": "code",
   "execution_count": 1,
   "id": "05ee3489",
   "metadata": {},
   "outputs": [],
   "source": [
    "import pandas as pd\n",
    "import numpy as np\n",
    "import random\n",
    "from faker import Faker\n",
    "from datetime import datetime, timedelta\n",
    "import os\n",
    "\n",
    "fake = Faker()\n",
    "Faker.seed(40)\n",
    "random.seed(40)\n",
    "np.random.seed(40)\n",
    "\n",
    "output_dir = \"data_dummy\"\n",
    "os.makedirs(output_dir, exist_ok=True)\n"
   ]
  },
  {
   "cell_type": "code",
   "execution_count": 2,
   "id": "924fb78b",
   "metadata": {},
   "outputs": [],
   "source": [
    "domains = [\"gmail.com\", \"yahoo.com\", \"rocket.com\", \"outlook.com\", \"starting.com\", \"hotmail.com\"]\n",
    "names = [fake.name() for i in range(1000)]\n",
    "emails = [\n",
    "        f\"{name.split()[0].lower()}_{i}@{random.choice(domains)}\"\n",
    "        for i, name in enumerate(names, start=10)\n",
    "]\n",
    "\n",
    "users = pd.DataFrame({\n",
    "    \"user_id\": range(1, 1001),\n",
    "    \"name\": names,\n",
    "    \"email\":emails,\n",
    "    \"registered_at\": [fake.date_time_between(start_date='-2y', end_date='now') for i in range(1000)]\n",
    "})\n",
    "users.to_csv(f\"{output_dir}/users.csv\", index=False)"
   ]
  },
  {
   "cell_type": "code",
   "execution_count": 3,
   "id": "726bf565",
   "metadata": {},
   "outputs": [],
   "source": [
    "libraries = pd.DataFrame({\n",
    "    \"library_id\": [f\"lib-{str (i).zfill(2)}\" for i in range(1,11)],\n",
    "    \"name\": [f\"{fake.city()} Library\" for _ in range(10)],\n",
    "    \"address\": [fake.address().replace(\"\\n\", \", \") for _ in range(10)]\n",
    "})\n",
    "libraries.to_csv(f\"{output_dir}/libraries.csv\", index=False)\n"
   ]
  },
  {
   "cell_type": "code",
   "execution_count": 4,
   "id": "d2bc1236",
   "metadata": {},
   "outputs": [],
   "source": [
    "category_names = ['Self-Improvement', 'Biography', 'Fantasy', 'Romance',\n",
    "                  'Science Fiction', 'Crime', 'Horror', 'Arcade', 'Suspense',\n",
    "                  'History', 'True Crime', 'Psychology', 'Travel',\n",
    "                  'History', 'Self-Help', 'Memoir', 'Biography', 'Dystopian']\n",
    "\n",
    "categories = pd.DataFrame({\n",
    "    \"category_id\": [f\"gnr-{str (i).zfill(2)}\" for i in range (1, len(category_names)+1)],\n",
    "    \"name\": category_names\n",
    "})\n",
    "categories.to_csv(f\"{output_dir}/categories.csv\", index=False)\n"
   ]
  },
  {
   "cell_type": "code",
   "execution_count": 5,
   "id": "c777bf5b",
   "metadata": {},
   "outputs": [],
   "source": [
    "books = pd.DataFrame({\n",
    "    \"book_id\": [f\"bk-{str (i).zfill(2)}\" for i in range (1,501)],\n",
    "    \"title\": [fake.sentence(nb_words=5).rstrip('.') for i in range(500)],\n",
    "    \"author\": [fake.name() for _ in range(500)],\n",
    "    \"category_id\": np.random.choice(categories['category_id'], size=500)\n",
    "})\n",
    "books.to_csv(f\"{output_dir}/books.csv\", index=False)\n"
   ]
  },
  {
   "cell_type": "code",
   "execution_count": 6,
   "id": "b7293e73",
   "metadata": {},
   "outputs": [],
   "source": [
    "library_books = []\n",
    "for book_id in books['book_id']:\n",
    "    lib_sample = np.random.choice(libraries['library_id'], size=random.randint(1, 3), replace=False)\n",
    "    for library_id in lib_sample:\n",
    "        library_books.append({\n",
    "            \"library_id\": library_id,\n",
    "            \"book_id\": book_id,\n",
    "            \"quantity\": random.randint(1, 10)\n",
    "        })\n",
    "library_books = pd.DataFrame(library_books)\n",
    "library_books.to_csv(f\"{output_dir}/library_books.csv\", index=False)\n"
   ]
  },
  {
   "cell_type": "code",
   "execution_count": null,
   "id": "7f29bdcb",
   "metadata": {},
   "outputs": [],
   "source": [
    "valid_pairs = library_books[['library_id', 'book_id']].values.tolist()\n",
    "loans = []\n",
    "for i in range(1, 1001):\n",
    "    user_id = random.randint(1, 1000)\n",
    "    library_id, book_id = random.choice(valid_pairs)\n",
    "    loan_date = fake.date_between(start_date='-1y', end_date='today')\n",
    "    due_date = loan_date + timedelta(days=14)\n",
    "    return_chance = random.random()\n",
    "    if return_chance < 0.7:\n",
    "        return_date = loan_date + timedelta(days=random.randint(1, 14))\n",
    "        status = 'returned'\n",
    "    else:\n",
    "        return_date = None\n",
    "        status = 'active'\n",
    "    loans.append({\n",
    "        \"loan_id\": i,\n",
    "        \"user_id\": user_id,\n",
    "        \"book_id\": book_id,\n",
    "        \"library_id\": library_id,\n",
    "        \"loan_date\": loan_date,\n",
    "        \"due_date\": due_date,\n",
    "        \"return_date\": return_date,\n",
    "        \"status\": status\n",
    "    })\n",
    "loans = pd.DataFrame(loans)\n",
    "loans.to_csv(f\"{output_dir}/loans.csv\", index=False)\n"
   ]
  },
  {
   "cell_type": "code",
   "execution_count": 8,
   "id": "940df400",
   "metadata": {},
   "outputs": [],
   "source": [
    "holds = []\n",
    "for i in range(1, 1001):\n",
    "    user_id = random.randint(1, 1000)\n",
    "    library_id, book_id = random.choice(valid_pairs)\n",
    "    hold_date = fake.date_between(start_date='-6mo', end_date='today')\n",
    "    expire_date = hold_date + timedelta(days=7)\n",
    "    queue_position = random.randint(1, 5)\n",
    "    fulfilled = random.choice([True, False])\n",
    "    holds.append({\n",
    "        \"hold_id\": i,\n",
    "        \"user_id\": user_id,\n",
    "        \"book_id\": book_id,\n",
    "        \"library_id\": library_id,\n",
    "        \"hold_date\": hold_date,\n",
    "        \"expire_date\": expire_date,\n",
    "        \"queue_position\": queue_position,\n",
    "        \"fulfilled\": fulfilled\n",
    "    })\n",
    "holds = pd.DataFrame(holds)\n",
    "holds.to_csv(f\"{output_dir}/holds.csv\", index=False)\n"
   ]
  }
 ],
 "metadata": {
  "kernelspec": {
   "display_name": "Python 3",
   "language": "python",
   "name": "python3"
  },
  "language_info": {
   "codemirror_mode": {
    "name": "ipython",
    "version": 3
   },
   "file_extension": ".py",
   "mimetype": "text/x-python",
   "name": "python",
   "nbconvert_exporter": "python",
   "pygments_lexer": "ipython3",
   "version": "3.12.6"
  }
 },
 "nbformat": 4,
 "nbformat_minor": 5
}
